{
 "cells": [
  {
   "cell_type": "code",
   "execution_count": 1,
   "id": "66adeb3a",
   "metadata": {},
   "outputs": [],
   "source": [
    "# Importing libraries\n",
    "import math\n",
    "import numpy as np\n",
    "import pandas as pd\n",
    "\n",
    "from scipy.interpolate import make_interp_spline\n",
    "from sklearn.linear_model import LinearRegression\n",
    "from sklearn.model_selection import train_test_split\n",
    "from sklearn.metrics import r2_score, mean_absolute_error"
   ]
  },
  {
   "cell_type": "code",
   "execution_count": 2,
   "id": "0738906d",
   "metadata": {},
   "outputs": [],
   "source": [
    "# List of optimum diameters\n",
    "D = [4,5,6,8,10,12,14,16,18,20,24]\n",
    "# List of (inner diameter, optimum diameter)\n",
    "Di = [(4.026,4),(5.047,5),(6.065,6),(7.981,8),(10.02,10),(11.938,12),(13.125,14),(15,16),(16.874,18),(18.814,20),(22.626,24)]\n",
    "# List of flow rate values\n",
    "Q = [100,120,130,140,160,180,200,210,220,250]\n",
    "# List of density values\n",
    "Density = [700,710,720,730,750,760,780,800,820,840]\n",
    "# List of viscosity values\n",
    "Viscosity = [10,15,20,25,30,35,40,45,50,55]"
   ]
  },
  {
   "cell_type": "code",
   "execution_count": 3,
   "id": "3675b534",
   "metadata": {},
   "outputs": [],
   "source": [
    "# Defining Functions\n",
    "\n",
    "def calculate_fixed_cost(d_optimum):\n",
    "    return 0.335*(0.05+0.015)*(6.5+1)*6.5*(d_optimum**1.5)\n",
    "\n",
    "def calculate_friction_factor(d_optimum, d_inner, flow_rate, density, viscosity):\n",
    "    r = 0.0018/d_optimum\n",
    "    re = 13.924*(flow_rate*density/(viscosity*d_inner))\n",
    "    x = math.log(1/((7/re)**0.9+(0.27*r)), math.e)\n",
    "    a = (2.457*x)**16\n",
    "    b = (37.53/re)**16\n",
    "    return (8*((8/re)**12+(1/(a+b)**1.5))**(1/12))\n",
    "\n",
    "def calculate_total_losses(f, flow_rate, d_inner):\n",
    "    hf = 603.042*(f*(flow_rate**2)*(0.0003048))/(d_inner**5)\n",
    "    return (1.15*hf)\n",
    "\n",
    "def calculate_operating_cost(flow_rate, density, total_losses):\n",
    "    return (flow_rate*density*total_losses*8000*0.073)/(361930.3*0.65)\n",
    "\n",
    "def fit_optimum_diameter_with_cost(optimum_diameter_list, total_cost_list):\n",
    "    optimum_diameters = np.linspace(4 , 24, 1001)\n",
    "    spline = make_interp_spline(optimum_diameter_list, total_cost_list, k=3)\n",
    "    total_cost_values = spline(optimum_diameters)\n",
    "    return optimum_diameters, total_cost_values\n",
    "\n",
    "def find_optimum_diameter(optimum_diameters, total_cost_values):\n",
    "    minimum_cost_index = np.argmin(total_cost_values)\n",
    "    return optimum_diameters[minimum_cost_index]"
   ]
  },
  {
   "cell_type": "code",
   "execution_count": 4,
   "id": "1ecc7e1a",
   "metadata": {},
   "outputs": [
    {
     "data": {
      "text/html": [
       "<div>\n",
       "<style scoped>\n",
       "    .dataframe tbody tr th:only-of-type {\n",
       "        vertical-align: middle;\n",
       "    }\n",
       "\n",
       "    .dataframe tbody tr th {\n",
       "        vertical-align: top;\n",
       "    }\n",
       "\n",
       "    .dataframe thead th {\n",
       "        text-align: right;\n",
       "    }\n",
       "</style>\n",
       "<table border=\"1\" class=\"dataframe\">\n",
       "  <thead>\n",
       "    <tr style=\"text-align: right;\">\n",
       "      <th></th>\n",
       "      <th>flow_rate</th>\n",
       "      <th>density</th>\n",
       "      <th>viscosity</th>\n",
       "      <th>optimum_diameter</th>\n",
       "    </tr>\n",
       "  </thead>\n",
       "  <tbody>\n",
       "  </tbody>\n",
       "</table>\n",
       "</div>"
      ],
      "text/plain": [
       "Empty DataFrame\n",
       "Columns: [flow_rate, density, viscosity, optimum_diameter]\n",
       "Index: []"
      ]
     },
     "execution_count": 4,
     "metadata": {},
     "output_type": "execute_result"
    }
   ],
   "source": [
    "# Define Dataset\n",
    "data = pd.DataFrame({\"flow_rate\": [], \"density\": [], \"viscosity\": [], \"optimum_diameter\": []})\n",
    "data"
   ]
  },
  {
   "cell_type": "code",
   "execution_count": 5,
   "id": "81108363",
   "metadata": {},
   "outputs": [],
   "source": [
    "# Loop through Flow rate values\n",
    "for q in Q:\n",
    "    # Loop through Density values\n",
    "    for d in Density:\n",
    "        # Loop through Viscosity values\n",
    "        for mu in Viscosity:\n",
    "            optimum_diameter_list = []     # To store diameter values\n",
    "            total_cost_list = []           # to store total cost for each diameter\n",
    "            # Loop through diameters\n",
    "            for di, do in Di:\n",
    "                # Calculate fixed cost\n",
    "                fixed_cost = calculate_fixed_cost(d_optimum=do)\n",
    "                \n",
    "                # Calculate friction factor\n",
    "                f = calculate_friction_factor(d_optimum=do, d_inner=di, flow_rate=q, density=d, viscosity=mu)\n",
    "                \n",
    "                # Calculate total losses\n",
    "                ht = calculate_total_losses(f=f, flow_rate=q, d_inner=di)\n",
    "                \n",
    "                # Calculate operating cost\n",
    "                operating_cost = calculate_operating_cost(flow_rate=q, density=d, total_losses=ht)\n",
    "                \n",
    "                # Calculate total cost\n",
    "                total_cost = operating_cost + fixed_cost\n",
    "                \n",
    "                # Add the values of optimum diameter and the corresponding total cost to lists\n",
    "                optimum_diameter_list.append(do)\n",
    "                total_cost_list.append(total_cost)\n",
    "            \n",
    "            # get optimum diameter accurately\n",
    "            optimum_diameters, total_cost_values = fit_optimum_diameter_with_cost(optimum_diameter_list, total_cost_list)\n",
    "            optimum_diameter = find_optimum_diameter(optimum_diameters, total_cost_values)\n",
    "            \n",
    "            # Add new row to dataset\n",
    "            new_row = pd.DataFrame({\"flow_rate\": [q], \"density\": [d], \"viscosity\": [mu], \"optimum_diameter\": [optimum_diameter]})\n",
    "            data = pd.concat([data, new_row], axis=0)"
   ]
  },
  {
   "cell_type": "code",
   "execution_count": 6,
   "id": "7ff46053",
   "metadata": {},
   "outputs": [
    {
     "data": {
      "text/html": [
       "<div>\n",
       "<style scoped>\n",
       "    .dataframe tbody tr th:only-of-type {\n",
       "        vertical-align: middle;\n",
       "    }\n",
       "\n",
       "    .dataframe tbody tr th {\n",
       "        vertical-align: top;\n",
       "    }\n",
       "\n",
       "    .dataframe thead th {\n",
       "        text-align: right;\n",
       "    }\n",
       "</style>\n",
       "<table border=\"1\" class=\"dataframe\">\n",
       "  <thead>\n",
       "    <tr style=\"text-align: right;\">\n",
       "      <th></th>\n",
       "      <th>flow_rate</th>\n",
       "      <th>density</th>\n",
       "      <th>viscosity</th>\n",
       "      <th>optimum_diameter</th>\n",
       "    </tr>\n",
       "  </thead>\n",
       "  <tbody>\n",
       "    <tr>\n",
       "      <th>0</th>\n",
       "      <td>100.0</td>\n",
       "      <td>700.0</td>\n",
       "      <td>10.0</td>\n",
       "      <td>4.94</td>\n",
       "    </tr>\n",
       "    <tr>\n",
       "      <th>1</th>\n",
       "      <td>100.0</td>\n",
       "      <td>700.0</td>\n",
       "      <td>15.0</td>\n",
       "      <td>5.00</td>\n",
       "    </tr>\n",
       "    <tr>\n",
       "      <th>2</th>\n",
       "      <td>100.0</td>\n",
       "      <td>700.0</td>\n",
       "      <td>20.0</td>\n",
       "      <td>5.06</td>\n",
       "    </tr>\n",
       "    <tr>\n",
       "      <th>3</th>\n",
       "      <td>100.0</td>\n",
       "      <td>700.0</td>\n",
       "      <td>25.0</td>\n",
       "      <td>5.10</td>\n",
       "    </tr>\n",
       "    <tr>\n",
       "      <th>4</th>\n",
       "      <td>100.0</td>\n",
       "      <td>700.0</td>\n",
       "      <td>30.0</td>\n",
       "      <td>5.12</td>\n",
       "    </tr>\n",
       "    <tr>\n",
       "      <th>...</th>\n",
       "      <td>...</td>\n",
       "      <td>...</td>\n",
       "      <td>...</td>\n",
       "      <td>...</td>\n",
       "    </tr>\n",
       "    <tr>\n",
       "      <th>995</th>\n",
       "      <td>250.0</td>\n",
       "      <td>840.0</td>\n",
       "      <td>35.0</td>\n",
       "      <td>7.74</td>\n",
       "    </tr>\n",
       "    <tr>\n",
       "      <th>996</th>\n",
       "      <td>250.0</td>\n",
       "      <td>840.0</td>\n",
       "      <td>40.0</td>\n",
       "      <td>7.78</td>\n",
       "    </tr>\n",
       "    <tr>\n",
       "      <th>997</th>\n",
       "      <td>250.0</td>\n",
       "      <td>840.0</td>\n",
       "      <td>45.0</td>\n",
       "      <td>7.82</td>\n",
       "    </tr>\n",
       "    <tr>\n",
       "      <th>998</th>\n",
       "      <td>250.0</td>\n",
       "      <td>840.0</td>\n",
       "      <td>50.0</td>\n",
       "      <td>7.86</td>\n",
       "    </tr>\n",
       "    <tr>\n",
       "      <th>999</th>\n",
       "      <td>250.0</td>\n",
       "      <td>840.0</td>\n",
       "      <td>55.0</td>\n",
       "      <td>7.90</td>\n",
       "    </tr>\n",
       "  </tbody>\n",
       "</table>\n",
       "<p>1000 rows × 4 columns</p>\n",
       "</div>"
      ],
      "text/plain": [
       "     flow_rate  density  viscosity  optimum_diameter\n",
       "0        100.0    700.0       10.0              4.94\n",
       "1        100.0    700.0       15.0              5.00\n",
       "2        100.0    700.0       20.0              5.06\n",
       "3        100.0    700.0       25.0              5.10\n",
       "4        100.0    700.0       30.0              5.12\n",
       "..         ...      ...        ...               ...\n",
       "995      250.0    840.0       35.0              7.74\n",
       "996      250.0    840.0       40.0              7.78\n",
       "997      250.0    840.0       45.0              7.82\n",
       "998      250.0    840.0       50.0              7.86\n",
       "999      250.0    840.0       55.0              7.90\n",
       "\n",
       "[1000 rows x 4 columns]"
      ]
     },
     "execution_count": 6,
     "metadata": {},
     "output_type": "execute_result"
    }
   ],
   "source": [
    "# Show dataset\n",
    "data.reset_index(inplace=True)\n",
    "data.drop(columns=\"index\", inplace=True)\n",
    "data"
   ]
  },
  {
   "cell_type": "code",
   "execution_count": null,
   "id": "6a2c0d31",
   "metadata": {},
   "outputs": [],
   "source": []
  },
  {
   "cell_type": "code",
   "execution_count": 7,
   "id": "7a7fb10b",
   "metadata": {},
   "outputs": [],
   "source": [
    "# make logarithmic distribution to data and separate dataset to (X_train, X_test, y_train, y_test)\n",
    "X = data.drop(columns=\"optimum_diameter\")\n",
    "X = np.log10(X)\n",
    "y = data[\"optimum_diameter\"]\n",
    "y = np.log10(y)\n",
    "X_train, X_test, y_train, y_test = train_test_split(X, y, test_size=0.3, random_state=42)"
   ]
  },
  {
   "cell_type": "code",
   "execution_count": 8,
   "id": "3219ed9e",
   "metadata": {},
   "outputs": [
    {
     "name": "stdout",
     "output_type": "stream",
     "text": [
      "Train r2_score = 0.9938946955772389\n",
      "Train MAE_score = 0.003268327135572568\n",
      "Test r2_score = 0.994187661191643\n",
      "Test MAE_score = 0.003325161735998188\n"
     ]
    }
   ],
   "source": [
    "# Train and test and evaluate model\n",
    "model = LinearRegression()\n",
    "model.fit(X_train, y_train)\n",
    "y_train_pred = model.predict(X_train)\n",
    "y_test_pred = model.predict(X_test)\n",
    "print(\"Train r2_score =\", r2_score(y_train_pred, y_train))\n",
    "print(\"Train MAE_score =\", mean_absolute_error(y_train_pred, y_train))\n",
    "print(\"Test r2_score =\", r2_score(y_test_pred, y_test))\n",
    "print(\"Test MAE_score =\", mean_absolute_error(y_test_pred, y_test))"
   ]
  },
  {
   "cell_type": "code",
   "execution_count": 9,
   "id": "305bb928",
   "metadata": {},
   "outputs": [
    {
     "name": "stdout",
     "output_type": "stream",
     "text": [
      "-0.5570345157029849\n",
      "[0.44143514 0.11268439 0.03724025]\n"
     ]
    }
   ],
   "source": [
    "# get model intercept and coeffecients\n",
    "intercept = model.intercept_\n",
    "coeffecients = model.coef_\n",
    "print(intercept)\n",
    "print(coeffecients)"
   ]
  },
  {
   "cell_type": "code",
   "execution_count": 10,
   "id": "244b0c9c",
   "metadata": {},
   "outputs": [
    {
     "name": "stdout",
     "output_type": "stream",
     "text": [
      "D_optimum = 0.277 (Q)^0.441 * (ru)^0.113 * (mu)^0.037\n"
     ]
    }
   ],
   "source": [
    "# Get imperical equation for optimum diameter\n",
    "constant = np.round(10**intercept, 3)\n",
    "a, b, c = np.round(np.array(coeffecients), 3)\n",
    "print(f\"D_optimum = {constant} (Q)^{a} * (ru)^{b} * (mu)^{c}\")"
   ]
  },
  {
   "cell_type": "code",
   "execution_count": 11,
   "id": "3b655bae",
   "metadata": {},
   "outputs": [],
   "source": [
    "def make_prediction(q, ru, mu):\n",
    "    return 0.277 *(q**0.441)*(ru**0.113)*(mu**0.037)"
   ]
  },
  {
   "cell_type": "code",
   "execution_count": 12,
   "id": "cf3f896f",
   "metadata": {},
   "outputs": [
    {
     "name": "stdout",
     "output_type": "stream",
     "text": [
      "Optimum Diameter = 7.676283382721798 in\n"
     ]
    }
   ],
   "source": [
    "q = 250\n",
    "ru = 800\n",
    "mu = 35\n",
    "print(\"Optimum Diameter =\", make_prediction(q, ru, mu), \"in\")"
   ]
  }
 ],
 "metadata": {
  "kernelspec": {
   "display_name": "Python 3 (ipykernel)",
   "language": "python",
   "name": "python3"
  },
  "language_info": {
   "codemirror_mode": {
    "name": "ipython",
    "version": 3
   },
   "file_extension": ".py",
   "mimetype": "text/x-python",
   "name": "python",
   "nbconvert_exporter": "python",
   "pygments_lexer": "ipython3",
   "version": "3.10.9"
  }
 },
 "nbformat": 4,
 "nbformat_minor": 5
}
